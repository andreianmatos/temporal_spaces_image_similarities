{
  "nbformat": 4,
  "nbformat_minor": 0,
  "metadata": {
    "colab": {
      "provenance": [],
      "authorship_tag": "ABX9TyOmHrDiYKTFA1cYgEs5sLNU",
      "include_colab_link": true
    },
    "kernelspec": {
      "name": "python3",
      "display_name": "Python 3"
    },
    "language_info": {
      "name": "python"
    }
  },
  "cells": [
    {
      "cell_type": "markdown",
      "metadata": {
        "id": "view-in-github",
        "colab_type": "text"
      },
      "source": [
        "<a href=\"https://colab.research.google.com/github/andreianmatos/temporal_spaces_image_similarities/blob/main/similarities.ipynb\" target=\"_parent\"><img src=\"https://colab.research.google.com/assets/colab-badge.svg\" alt=\"Open In Colab\"/></a>"
      ]
    },
    {
      "cell_type": "code",
      "execution_count": 2,
      "metadata": {
        "id": "vaigcPLpcRp6"
      },
      "outputs": [],
      "source": [
        "from zipfile import ZipFile\n",
        "import requests\n",
        "from io import BytesIO\n",
        "import os\n",
        "import tensorflow as tf\n",
        "from tensorflow.keras.applications import ResNet50\n",
        "from tensorflow.keras.preprocessing import image\n",
        "from tensorflow.keras.applications.resnet50 import preprocess_input\n",
        "import numpy as np\n",
        "import matplotlib.pyplot as plt\n",
        "import matplotlib.image as mpimg\n",
        "from PIL import Image\n",
        "import time\n",
        "from tqdm import tqdm\n",
        "import re\n",
        "tf.keras.utils.disable_interactive_logging()"
      ]
    },
    {
      "cell_type": "markdown",
      "source": [
        "Get people's images (past and current)"
      ],
      "metadata": {
        "id": "eVDzQPwErLvs"
      }
    },
    {
      "cell_type": "code",
      "source": [
        "# This is a folder with a folder for each person that contains an image\n",
        "dataset_link = 'https://github.com/andreianmatos/temporal_spaces_image_similarities/raw/main/people.zip'\n",
        "# Alternative having a folder with everyone's texture\n",
        "# dataset_imgs_link = 'https://github.com/andreianmatos/temporal_spaces_image_similarities/raw/main/people_imgs.zip'\n",
        "\n",
        "response = requests.get(dataset_link)\n",
        "zip_data = BytesIO(response.content)\n",
        "with ZipFile(zip_data, 'r') as zip_ref:\n",
        "    zip_ref.extractall()"
      ],
      "metadata": {
        "id": "HjjKcQeYo_MR"
      },
      "execution_count": 3,
      "outputs": []
    },
    {
      "cell_type": "code",
      "source": [
        "image_link = 'https://github.com/andreianmatos/temporal_spaces_image_similarities/raw/main/current_person.png'\n",
        "response = requests.get(image_link)\n",
        "query_image_data = BytesIO(response.content)\n",
        "query_image = Image.open(query_image_data)"
      ],
      "metadata": {
        "id": "IivKVxZFp0Eh"
      },
      "execution_count": 4,
      "outputs": []
    },
    {
      "cell_type": "markdown",
      "source": [
        "Taking a pre-trained convolutional neural network (CNN) as a feature extractor - ResNet, it's pre-trained on large datasets and can capture meaningful image representations.\n",
        "\n",
        "Remove the final classification layer or head from the pre-trained model. This allows you to use the model as a feature extractor without the need for labeled data.\n",
        "\n",
        "Pass the images through the modified network to obtain feature embeddings for each image. These embeddings should capture the visual patterns and representations of the images."
      ],
      "metadata": {
        "id": "wei6WerDrT3o"
      }
    },
    {
      "cell_type": "code",
      "source": [
        "base_model = ResNet50(weights='imagenet', include_top=False)"
      ],
      "metadata": {
        "id": "Rbwx40s7f_fL"
      },
      "execution_count": 5,
      "outputs": []
    },
    {
      "cell_type": "code",
      "source": [
        "#base_model.save('resnet50_model.h5')\n",
        "#!pip install tensorflowjs\n",
        "#!tensorflowjs_converter --input_format=keras 'resnet50_model.h5' 'model'\n",
        "#shutil.make_archive('model', 'zip', 'model')\n",
        "#files.download('model.zip')"
      ],
      "metadata": {
        "id": "wHVRItn_8OV7"
      },
      "execution_count": 6,
      "outputs": []
    },
    {
      "cell_type": "code",
      "source": [
        "def get_image_embedding(img_path):\n",
        "    img = image.load_img(img_path, target_size=(224, 224))\n",
        "    img_array = image.img_to_array(img)\n",
        "    img_array = np.expand_dims(img_array, axis=0)\n",
        "    img_array = preprocess_input(img_array)\n",
        "    embeddings = base_model.predict(img_array)\n",
        "    return embeddings.flatten()"
      ],
      "metadata": {
        "id": "xQbC3ZuQgFCH"
      },
      "execution_count": 7,
      "outputs": []
    },
    {
      "cell_type": "markdown",
      "source": [
        "Similarity metric to measure the similarity between the embeddings of the query image and those of images in the people bank."
      ],
      "metadata": {
        "id": "8ygpHXfwr0jb"
      }
    },
    {
      "cell_type": "code",
      "source": [
        "def cosine_similarity(embedding1, embedding2):\n",
        "    dot_product = np.dot(embedding1, embedding2)\n",
        "    norm1 = np.linalg.norm(embedding1)\n",
        "    norm2 = np.linalg.norm(embedding2)\n",
        "    similarity = dot_product / (norm1 * norm2)\n",
        "    return similarity"
      ],
      "metadata": {
        "id": "SjA_Q2V1gIHR"
      },
      "execution_count": 8,
      "outputs": []
    },
    {
      "cell_type": "markdown",
      "source": [
        "Going through the people folders and comparing the current image to their images..."
      ],
      "metadata": {
        "id": "lycGsoDerGmF"
      }
    },
    {
      "cell_type": "code",
      "source": [
        "query_embedding = get_image_embedding(query_image_data)\n",
        "\n",
        "most_similar_image_path = None\n",
        "max_similarity = -1\n",
        "\n",
        "dataset_folder = 'people/'\n",
        "\n",
        "total_images = sum(1 for file in os.listdir(dataset_folder) if file.lower())\n",
        "current_image = 0\n",
        "\n",
        "# find the image called captureX.png - for real scenario if pattern.match(file):\n",
        "pattern = re.compile(r'capture\\d+\\.png')\n",
        "\n",
        "print(\"Comparing images:\")\n",
        "\n",
        "for root, dirs, files in os.walk(dataset_folder):\n",
        "    for file in files:\n",
        "        #if pattern.match(file):\n",
        "        if file.lower().endswith(('.png')):\n",
        "            img_path = os.path.join(root, file)\n",
        "            img_embedding = get_image_embedding(img_path)\n",
        "            similarity_score = cosine_similarity(query_embedding, img_embedding)\n",
        "\n",
        "            if similarity_score > max_similarity:\n",
        "                max_similarity = similarity_score\n",
        "                most_similar_image_path = img_path\n",
        "\n",
        "            current_image += 1\n",
        "            print(f\"\\r({current_image}/{total_images})\", end=\"\", flush=True)\n",
        "\n",
        "most_similar_image = Image.open(img_path)\n",
        "\n",
        "print(\"\\nComparison finished.\")"
      ],
      "metadata": {
        "id": "Os4zNTgTgLcK",
        "colab": {
          "base_uri": "https://localhost:8080/"
        },
        "outputId": "2a9a5fa8-dbe0-4262-ed13-b6975f2cf457"
      },
      "execution_count": 9,
      "outputs": [
        {
          "output_type": "stream",
          "name": "stdout",
          "text": [
            "Comparing images:\n",
            "(100/100)\n",
            "Comparison finished.\n"
          ]
        }
      ]
    },
    {
      "cell_type": "code",
      "source": [
        "print(f\"Most similar image: {most_similar_image_path}\")\n",
        "print(f\"Similarity score: {max_similarity}\")"
      ],
      "metadata": {
        "colab": {
          "base_uri": "https://localhost:8080/"
        },
        "id": "Tjo_RHCgkQG2",
        "outputId": "24b43cdd-fbb2-479d-907a-fe15675f8fef"
      },
      "execution_count": 10,
      "outputs": [
        {
          "output_type": "stream",
          "name": "stdout",
          "text": [
            "Most similar image: people/person (68)/cap0 (88).png\n",
            "Similarity score: 0.7713119983673096\n"
          ]
        }
      ]
    },
    {
      "cell_type": "markdown",
      "source": [
        "Displaying the Query and Most Similar images side by side...\n"
      ],
      "metadata": {
        "id": "GDreikIMsEwo"
      }
    },
    {
      "cell_type": "code",
      "source": [
        "fig, axs = plt.subplots(1, 2, figsize=(10, 5))\n",
        "\n",
        "axs[0].imshow(query_image)\n",
        "axs[0].set_title('current person')\n",
        "\n",
        "similar_img = mpimg.imread(most_similar_image_path)\n",
        "axs[1].imshow(similar_img)\n",
        "axs[1].set_title(most_similar_image_path.split('/')[1].split('.')[0])\n",
        "\n",
        "plt.show()"
      ],
      "metadata": {
        "colab": {
          "base_uri": "https://localhost:8080/",
          "height": 435
        },
        "id": "m4QUv_Uul-fX",
        "outputId": "1d2d1ab2-1192-4acb-b07c-b850c23ee5c2"
      },
      "execution_count": 11,
      "outputs": [
        {
          "output_type": "display_data",
          "data": {
            "text/plain": [
              "<Figure size 1000x500 with 2 Axes>"
            ],
            "image/png": "[encoded data removed]"
          },
          "metadata": {}
        }
      ]
    }
  ]
}